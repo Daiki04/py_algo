{
 "cells": [
  {
   "cell_type": "code",
   "execution_count": 14,
   "metadata": {},
   "outputs": [],
   "source": [
    "import ipytest\n",
    "import pytest\n",
    "from collections import deque\n",
    "\n",
    "ipytest.autoconfig()"
   ]
  },
  {
   "cell_type": "markdown",
   "metadata": {},
   "source": [
    "## リスト・スタック・キュー・リングバッファ"
   ]
  },
  {
   "cell_type": "code",
   "execution_count": 3,
   "metadata": {},
   "outputs": [
    {
     "name": "stdout",
     "output_type": "stream",
     "text": [
      "[1, 2, 3]\n",
      "[1, 2, 3, 4, 5, 6]\n",
      "6\n",
      "6\n",
      "[1, 2, 3, 4, 5]\n",
      "False\n"
     ]
    }
   ],
   "source": [
    "class Stack:\n",
    "    def __init__(self, initial_state : any=None) -> None:\n",
    "        self.stack = []\n",
    "\n",
    "        if initial_state is not None:\n",
    "            if isinstance(initial_state, list):\n",
    "                self.stack = initial_state\n",
    "            else:\n",
    "                self.stack.append(initial_state)\n",
    "    \n",
    "    def push(self, item : any) -> None:\n",
    "        self.stack.append(item)\n",
    "\n",
    "    def pop(self) -> any:\n",
    "        return self.stack.pop()\n",
    "    \n",
    "    def peek(self) -> any:\n",
    "        return self.stack[-1]\n",
    "    \n",
    "    def is_empty(self) -> bool:\n",
    "        return len(self.stack) == 0\n",
    "\n",
    "    def __str__(self) -> str:\n",
    "        return str(self.stack)\n",
    "    \n",
    "\n",
    "stack = Stack([1, 2, 3])\n",
    "print(stack)\n",
    "stack.push(4)\n",
    "stack.push(5)\n",
    "stack.push(6)\n",
    "print(stack)\n",
    "print(stack.peek())\n",
    "print(stack.pop())\n",
    "print(stack)\n",
    "print(stack.is_empty())"
   ]
  },
  {
   "cell_type": "code",
   "execution_count": 6,
   "metadata": {},
   "outputs": [
    {
     "name": "stdout",
     "output_type": "stream",
     "text": [
      "[]\n",
      "[4, 5, 6]\n",
      "4\n",
      "4\n",
      "[5, 6]\n",
      "False\n"
     ]
    }
   ],
   "source": [
    "class Queue:\n",
    "    def __init__(self, initial_state : any=None) -> None:\n",
    "        self.queue = []\n",
    "\n",
    "        if initial_state is not None:\n",
    "            if isinstance(initial_state, list):\n",
    "                self.queue = initial_state\n",
    "            else:\n",
    "                self.queue.append(initial_state)\n",
    "    \n",
    "    def enqueue(self, item : any) -> None:\n",
    "        self.queue.append(item)\n",
    "\n",
    "    def dequeue(self) -> any:\n",
    "        return self.queue.pop(0)\n",
    "    \n",
    "    def peek(self) -> any:\n",
    "        return self.queue[0]\n",
    "    \n",
    "    def is_empty(self) -> bool:\n",
    "        return len(self.queue) == 0\n",
    "\n",
    "    def __str__(self) -> str:\n",
    "        return str(self.queue)\n",
    "\n",
    "queue = Queue()\n",
    "print(queue)\n",
    "queue.enqueue(4)\n",
    "queue.enqueue(5)\n",
    "queue.enqueue(6)\n",
    "print(queue)\n",
    "print(queue.peek())\n",
    "print(queue.dequeue())\n",
    "print(queue)\n",
    "print(queue.is_empty())"
   ]
  },
  {
   "cell_type": "code",
   "execution_count": 13,
   "metadata": {},
   "outputs": [
    {
     "name": "stdout",
     "output_type": "stream",
     "text": [
      "\u001b[32m.\u001b[0m\u001b[32m                                                                                            [100%]\u001b[0m\n",
      "\u001b[32m\u001b[32m\u001b[1m1 passed\u001b[0m\u001b[32m in 0.02s\u001b[0m\u001b[0m\n"
     ]
    }
   ],
   "source": [
    "%%ipytest\n",
    "\n",
    "class RingBuffer:\n",
    "    def __init__(self, size : int) -> None:\n",
    "        self.size = size\n",
    "        self.buffer = [None] * size\n",
    "        self.index = 0\n",
    "        self.read_index = 0\n",
    "\n",
    "    def append(self, item : any) -> None:\n",
    "        self.buffer[self.index] = item\n",
    "        self.index = (self.index + 1) % self.size\n",
    "        self.read_index = self.index\n",
    "\n",
    "    def read(self) -> any:\n",
    "        item = self.buffer[self.read_index]\n",
    "        self.read_index = (self.read_index + 1) % self.size\n",
    "        return item\n",
    "\n",
    "@pytest.mark.parametrize(\"expected\", [\n",
    "    ([8, 9, 10]),\n",
    "])\n",
    "\n",
    "def test_ring_buffer(expected):\n",
    "    ring_buffer = RingBuffer(3)\n",
    "    for i in range(10+1):\n",
    "        ring_buffer.append(i)\n",
    "\n",
    "    result = []\n",
    "    for i in range(3):\n",
    "        result.append(ring_buffer.read())\n",
    "\n",
    "    assert result == expected\n",
    "\n"
   ]
  },
  {
   "cell_type": "markdown",
   "metadata": {},
   "source": [
    "## 逆ポーランド記法"
   ]
  },
  {
   "cell_type": "code",
   "execution_count": 17,
   "metadata": {},
   "outputs": [
    {
     "name": "stdout",
     "output_type": "stream",
     "text": [
      "\u001b[32m.\u001b[0m\u001b[32m.\u001b[0m\u001b[32m.\u001b[0m\u001b[32m.\u001b[0m\u001b[32m.\u001b[0m\u001b[32m                                                                                        [100%]\u001b[0m\n",
      "\u001b[32m\u001b[32m\u001b[1m5 passed\u001b[0m\u001b[32m in 0.03s\u001b[0m\u001b[0m\n"
     ]
    }
   ],
   "source": [
    "%%ipytest\n",
    "\n",
    "def calc_rpn(expression : str) -> int:\n",
    "    stack = deque()\n",
    "    for token in expression.split():\n",
    "        if token in \"+-*/%\":\n",
    "            b = stack.pop()\n",
    "            a = stack.pop()\n",
    "            if token == \"+\":\n",
    "                stack.append(a + b)\n",
    "            elif token == \"-\":\n",
    "                stack.append(a - b)\n",
    "            elif token == \"*\":\n",
    "                stack.append(a * b)\n",
    "            elif token == \"/\":\n",
    "                stack.append(a / b)\n",
    "            elif token == \"//\":\n",
    "                stack.append(a // b)\n",
    "            elif token == \"%\":\n",
    "                stack.append(a % b)\n",
    "        else:\n",
    "            stack.append(int(token))\n",
    "\n",
    "    return stack.pop()\n",
    "\n",
    "@pytest.mark.parametrize(\"expression, expected\", [\n",
    "    (\"3 4 +\", 7),\n",
    "    (\"4 2 /\", 2),\n",
    "    (\"1 2 + 4 *\", 12),\n",
    "    (\"1 2 4 * +\", 9),\n",
    "    (\"1 2 4 * + 5 -\", 4),\n",
    "])\n",
    "\n",
    "def test_calc_rpn(expression, expected):\n",
    "    assert calc_rpn(expression) == expected"
   ]
  },
  {
   "cell_type": "code",
   "execution_count": null,
   "metadata": {},
   "outputs": [],
   "source": []
  }
 ],
 "metadata": {
  "kernelspec": {
   "display_name": "env_algo_book",
   "language": "python",
   "name": "python3"
  },
  "language_info": {
   "codemirror_mode": {
    "name": "ipython",
    "version": 3
   },
   "file_extension": ".py",
   "mimetype": "text/x-python",
   "name": "python",
   "nbconvert_exporter": "python",
   "pygments_lexer": "ipython3",
   "version": "3.11.8"
  }
 },
 "nbformat": 4,
 "nbformat_minor": 2
}
