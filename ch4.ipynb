{
 "cells": [
  {
   "cell_type": "code",
   "execution_count": 1,
   "metadata": {},
   "outputs": [],
   "source": [
    "import ipytest\n",
    "import pytest\n",
    "import random\n",
    "import numpy as np\n",
    "\n",
    "ipytest.autoconfig()"
   ]
  },
  {
   "cell_type": "markdown",
   "metadata": {},
   "source": [
    "## 基本ソートアルゴリズム"
   ]
  },
  {
   "cell_type": "code",
   "execution_count": 5,
   "metadata": {},
   "outputs": [
    {
     "name": "stdout",
     "output_type": "stream",
     "text": [
      "\u001b[32m.\u001b[0m\u001b[32m.\u001b[0m\u001b[32m.\u001b[0m\u001b[32m.\u001b[0m\u001b[32m                                                                                         [100%]\u001b[0m\n",
      "\u001b[32m\u001b[32m\u001b[1m4 passed\u001b[0m\u001b[32m in 0.02s\u001b[0m\u001b[0m\n"
     ]
    }
   ],
   "source": [
    "%%ipytest\n",
    "\n",
    "# バブルソート\n",
    "def bubble_sort(arr):\n",
    "    for i in range(len(arr)):\n",
    "        for j in range(i, len(arr)):\n",
    "            if arr[i] > arr[j]:\n",
    "                arr[i], arr[j] = arr[j], arr[i]\n",
    "\n",
    "    return arr\n",
    "\n",
    "\n",
    "@pytest.mark.parametrize(\n",
    "    \"arr, expected\",\n",
    "    [\n",
    "        ([3, 2, 1], [1, 2, 3]),\n",
    "        ([1, 2, 3], [1, 2, 3]),\n",
    "        ([1], [1]),\n",
    "        ([], []),\n",
    "    ],\n",
    ")\n",
    "\n",
    "def test_bubble_sort(arr, expected):\n",
    "    assert bubble_sort(arr) == expected"
   ]
  },
  {
   "cell_type": "code",
   "execution_count": 8,
   "metadata": {},
   "outputs": [
    {
     "name": "stdout",
     "output_type": "stream",
     "text": [
      "\u001b[32m.\u001b[0m\u001b[32m.\u001b[0m\u001b[32m.\u001b[0m\u001b[32m.\u001b[0m\u001b[32m                                                                                         [100%]\u001b[0m\n",
      "\u001b[32m\u001b[32m\u001b[1m4 passed\u001b[0m\u001b[32m in 0.03s\u001b[0m\u001b[0m\n"
     ]
    }
   ],
   "source": [
    "%%ipytest\n",
    "\n",
    "# コムソート\n",
    "# バブルソートは隣り合う要素を比較するが、コムソートは間隔をあけて比較する\n",
    "# そのため，後ろにある小さな要素が前に移動するのが早い\n",
    "def comb_sort(arr):\n",
    "    gap = len(arr) # 比較する要素の間隔\n",
    "    shrink = 1.3 # 縮小率\n",
    "    swapped = True # 交換が発生したかどうか: 交換が発生しなくなるor間隔が1になるとソート完了\n",
    "\n",
    "    while gap > 1 or swapped:\n",
    "        gap = int(gap / shrink) # int()で切り捨て\n",
    "        if gap < 1:\n",
    "            gap = 1\n",
    "\n",
    "        swapped = False\n",
    "        for i in range(len(arr) - gap):\n",
    "            if arr[i] > arr[i + gap]:\n",
    "                arr[i], arr[i + gap] = arr[i + gap], arr[i]\n",
    "                swapped = True\n",
    "\n",
    "    return arr\n",
    "\n",
    "@pytest.mark.parametrize(\n",
    "    \"arr, expected\",\n",
    "    [\n",
    "        ([3, 2, 1], [1, 2, 3]),\n",
    "        ([1, 2, 3], [1, 2, 3]),\n",
    "        ([1], [1]),\n",
    "        ([], []),\n",
    "    ],\n",
    ")\n",
    "\n",
    "def test_comb_sort(arr, expected):\n",
    "    assert comb_sort(arr) == expected"
   ]
  },
  {
   "cell_type": "code",
   "execution_count": 9,
   "metadata": {},
   "outputs": [
    {
     "name": "stdout",
     "output_type": "stream",
     "text": [
      "\u001b[32m.\u001b[0m\u001b[32m.\u001b[0m\u001b[32m.\u001b[0m\u001b[32m.\u001b[0m\u001b[32m                                                                                         [100%]\u001b[0m\n",
      "\u001b[32m\u001b[32m\u001b[1m4 passed\u001b[0m\u001b[32m in 0.04s\u001b[0m\u001b[0m\n"
     ]
    }
   ],
   "source": [
    "%%ipytest\n",
    "\n",
    "# 選択ソート\n",
    "def selection_sort(arr):\n",
    "    for i in range(len(arr)):\n",
    "        min_index = i\n",
    "        for j in range(i + 1, len(arr)):\n",
    "            if arr[j] < arr[min_index]:\n",
    "                min_index = j\n",
    "        arr[i], arr[min_index] = arr[min_index], arr[i]\n",
    "\n",
    "    return arr\n",
    "\n",
    "@pytest.mark.parametrize(\n",
    "    \"arr, expected\",\n",
    "    [\n",
    "        ([3, 2, 1], [1, 2, 3]),\n",
    "        ([1, 2, 3], [1, 2, 3]),\n",
    "        ([1], [1]),\n",
    "        ([], []),\n",
    "    ],\n",
    ")\n",
    "\n",
    "def test_selection_sort(arr, expected):\n",
    "    assert selection_sort(arr) == expected"
   ]
  },
  {
   "cell_type": "code",
   "execution_count": 10,
   "metadata": {},
   "outputs": [
    {
     "name": "stdout",
     "output_type": "stream",
     "text": [
      "\u001b[32m.\u001b[0m\u001b[32m.\u001b[0m\u001b[32m.\u001b[0m\u001b[32m.\u001b[0m\u001b[32m                                                                                         [100%]\u001b[0m\n",
      "\u001b[32m\u001b[32m\u001b[1m4 passed\u001b[0m\u001b[32m in 0.05s\u001b[0m\u001b[0m\n"
     ]
    }
   ],
   "source": [
    "%%ipytest\n",
    "\n",
    "# 挿入ソート\n",
    "def insertion_sort(arr):\n",
    "    for i in range(1, len(arr)):\n",
    "        key = arr[i]\n",
    "        j = i - 1\n",
    "        while j >= 0 and arr[j] > key:\n",
    "            arr[j + 1] = arr[j]\n",
    "            j -= 1\n",
    "        arr[j + 1] = key\n",
    "\n",
    "    return arr\n",
    "\n",
    "@pytest.mark.parametrize(\n",
    "    \"arr, expected\",\n",
    "    [\n",
    "        ([3, 2, 1], [1, 2, 3]),\n",
    "        ([1, 2, 3], [1, 2, 3]),\n",
    "        ([1], [1]),\n",
    "        ([], []),\n",
    "    ],\n",
    ")\n",
    "\n",
    "def test_insertion_sort(arr, expected):\n",
    "    assert insertion_sort(arr) == expected"
   ]
  },
  {
   "cell_type": "code",
   "execution_count": 15,
   "metadata": {},
   "outputs": [
    {
     "name": "stdout",
     "output_type": "stream",
     "text": [
      "\u001b[32m.\u001b[0m\u001b[32m.\u001b[0m\u001b[32m.\u001b[0m\u001b[32m.\u001b[0m\u001b[32m.\u001b[0m\u001b[32m.\u001b[0m\u001b[32m.\u001b[0m\u001b[32m.\u001b[0m\u001b[32m                                                                                     [100%]\u001b[0m\n",
      "\u001b[32m\u001b[32m\u001b[1m8 passed\u001b[0m\u001b[32m in 0.04s\u001b[0m\u001b[0m\n"
     ]
    }
   ],
   "source": [
    "%%ipytest\n",
    "\n",
    "def bubble_sort_kry(arr, key=lambda x: x):\n",
    "    arr_key = [key(x) for x in arr]\n",
    "    for i in range(len(arr)):\n",
    "        for j in range(i, len(arr)):\n",
    "            if arr_key[i] > arr_key[j]:\n",
    "                arr[i], arr[j] = arr[j], arr[i]\n",
    "                arr_key[i], arr_key[j] = arr_key[j], arr_key[i]\n",
    "\n",
    "    return arr\n",
    "\n",
    "@pytest.mark.parametrize(\n",
    "    \"arr, key, expected\",\n",
    "    [\n",
    "        ([3, 2, 1], lambda x: x, [1, 2, 3]),\n",
    "        ([1, 2, 3], lambda x: x, [1, 2, 3]),\n",
    "        ([1], lambda x: x, [1]),\n",
    "        ([], lambda x: x, []),\n",
    "        ([3, 2, 1], lambda x: -x, [3, 2, 1]),\n",
    "        ([1, 2, 3], lambda x: -x, [3, 2, 1]),\n",
    "        ([1], lambda x: -x, [1]),\n",
    "        ([], lambda x: -x, []),\n",
    "    ],\n",
    ")\n",
    "\n",
    "def test_bubble_sort_kry(arr, key, expected):\n",
    "    assert bubble_sort_kry(arr, key) == expected"
   ]
  },
  {
   "cell_type": "markdown",
   "metadata": {},
   "source": [
    "## 発展ソートアルゴリズム"
   ]
  },
  {
   "cell_type": "code",
   "execution_count": 22,
   "metadata": {},
   "outputs": [
    {
     "name": "stdout",
     "output_type": "stream",
     "text": [
      "\u001b[32m.\u001b[0m\u001b[32m                                                                                            [100%]\u001b[0m\n",
      "\u001b[32m\u001b[32m\u001b[1m1 passed\u001b[0m\u001b[32m in 0.02s\u001b[0m\u001b[0m\n"
     ]
    }
   ],
   "source": [
    "%%ipytest\n",
    "\n",
    "# Tim Sort\n",
    "# https://qiita.com/nishiwakki/items/806c24b8d061083d0808\n",
    "# マージソートと挿入ソートを組み合わせたアルゴリズム\n",
    "# Pythonのsorted()関数やlist.sort()関数で使われている\n",
    "def tim_sort(arr):\n",
    "    if len(arr) < 2:\n",
    "        return arr\n",
    "\n",
    "    def _calc_minrun(n):\n",
    "        r = 0\n",
    "        while n >= 64:\n",
    "            r |= n & 1 # nの最下位ビットをrの最下位ビットにコピー\n",
    "            n >>= 1 # nを1ビット右シフト: nを2で割る\n",
    "        return n + r\n",
    "\n",
    "    def _insertion_sort(arr, left, right):\n",
    "        for i in range(left + 1, right + 1):\n",
    "            key = arr[i]\n",
    "            j = i - 1\n",
    "            while j >= left and arr[j] > key:\n",
    "                arr[j + 1] = arr[j]\n",
    "                j -= 1\n",
    "            arr[j + 1] = key\n",
    "\n",
    "    def _merge(arr, l, m, r):\n",
    "        len1, len2 = m - l + 1, r - m\n",
    "        left, right = [], []\n",
    "        for i in range(len1):\n",
    "            left.append(arr[l + i])\n",
    "        for i in range(len2):\n",
    "            right.append(arr[m + 1 + i])\n",
    "\n",
    "        i, j, k = 0, 0, l\n",
    "        while i < len1 and j < len2:\n",
    "            if left[i] <= right[j]:\n",
    "                arr[k] = left[i]\n",
    "                i += 1\n",
    "            else:\n",
    "                arr[k] = right[j]\n",
    "                j += 1\n",
    "            k += 1\n",
    "\n",
    "        while i < len1:\n",
    "            arr[k] = left[i]\n",
    "            i += 1\n",
    "            k += 1\n",
    "\n",
    "        while j < len2:\n",
    "            arr[k] = right[j]\n",
    "            j += 1\n",
    "            k += 1\n",
    "    minrun = _calc_minrun(len(arr)) # 最小の部分配列の要素数\n",
    "    \n",
    "    # 1:サブ配列に分割\n",
    "    for i in range(0, len(arr), minrun):\n",
    "        _insertion_sort(arr, i, min((i + minrun - 1), len(arr) - 1)) # 2: サブ配列内で挿入ソート\n",
    "    \n",
    "    # 3: サブ配列をマージ\n",
    "    size = minrun\n",
    "    while size < len(arr):\n",
    "        for left in range(0, len(arr), 2 * size):\n",
    "            mid = left + size - 1\n",
    "            right = min((left + 2 * size - 1), len(arr) - 1)\n",
    "            _merge(arr, left, mid, right)\n",
    "        size *= 2\n",
    "\n",
    "    return arr\n",
    "\n",
    "a = list(range(1000))\n",
    "random.shuffle(a)\n",
    "@pytest.mark.parametrize(\n",
    "    \"arr, expected\",\n",
    "    [\n",
    "        (a, list(range(1000))),\n",
    "    ],\n",
    ")\n",
    "\n",
    "def test_tim_sort(arr, expected):\n",
    "    assert tim_sort(arr) == expected"
   ]
  },
  {
   "cell_type": "code",
   "execution_count": 23,
   "metadata": {},
   "outputs": [
    {
     "name": "stdout",
     "output_type": "stream",
     "text": [
      "\u001b[32m.\u001b[0m\u001b[32m.\u001b[0m\u001b[32m.\u001b[0m\u001b[32m.\u001b[0m\u001b[32m                                                                                         [100%]\u001b[0m\n",
      "\u001b[32m\u001b[32m\u001b[1m4 passed\u001b[0m\u001b[32m in 0.04s\u001b[0m\u001b[0m\n"
     ]
    }
   ],
   "source": [
    "%%ipytest\n",
    "\n",
    "# シェルソート\n",
    "def shell_sort(arr):\n",
    "    n = len(arr)\n",
    "    gap = n // 2\n",
    "\n",
    "    while gap > 0:\n",
    "        for i in range(gap, n):\n",
    "            temp = arr[i]\n",
    "            j = i\n",
    "            while j >= gap and arr[j - gap] > temp:\n",
    "                arr[j] = arr[j - gap]\n",
    "                j -= gap\n",
    "            arr[j] = temp\n",
    "        gap //= 2\n",
    "\n",
    "    return arr\n",
    "\n",
    "@pytest.mark.parametrize(\n",
    "    \"arr, expected\",\n",
    "    [\n",
    "        ([3, 2, 1], [1, 2, 3]),\n",
    "        ([1, 2, 3], [1, 2, 3]),\n",
    "        ([1], [1]),\n",
    "        ([], []),\n",
    "    ],\n",
    ")\n",
    "\n",
    "def test_shell_sort(arr, expected):\n",
    "    assert shell_sort(arr) == expected"
   ]
  },
  {
   "cell_type": "code",
   "execution_count": 5,
   "metadata": {},
   "outputs": [
    {
     "name": "stdout",
     "output_type": "stream",
     "text": [
      "\u001b[32m.\u001b[0m\u001b[32m.\u001b[0m\u001b[32m.\u001b[0m\u001b[32m.\u001b[0m\u001b[32m                                                                                         [100%]\u001b[0m\n",
      "\u001b[32m\u001b[32m\u001b[1m4 passed\u001b[0m\u001b[32m in 0.04s\u001b[0m\u001b[0m\n"
     ]
    }
   ],
   "source": [
    "%%ipytest\n",
    "\n",
    "# ヒープソート\n",
    "def heap_sort(arr):\n",
    "    def _align_element(arr, start, end):\n",
    "        \"\"\"ヒープを構築\n",
    "\n",
    "        Args:\n",
    "            arr (_type_): 整列対象の配列\n",
    "            start (_type_): 整列対象の開始インデックス\n",
    "            end (_type_): 整列対象の終了インデックス\n",
    "        \"\"\"\n",
    "        k = start\n",
    "        \n",
    "        while True:\n",
    "            left = arr[2*k + 1] if 2*k + 1 < end else -np.inf\n",
    "            right = arr[2*k + 2] if 2*k + 2 < end else -np.inf\n",
    "\n",
    "            if left == -np.inf and right == -np.inf:\n",
    "                break\n",
    "            elif arr[k] >= max(left, right):\n",
    "                break\n",
    "            elif left > right:\n",
    "                arr[k], arr[2*k + 1] = arr[2*k + 1], arr[k]\n",
    "                k = 2*k + 1\n",
    "            else:\n",
    "                arr[k], arr[2*k + 2] = arr[2*k + 2], arr[k]\n",
    "                k = 2*k + 2\n",
    "\n",
    "    def _build_heap(arr):\n",
    "        \"\"\"ヒープを構築\n",
    "\n",
    "        Args:\n",
    "            arr (_type_): ヒープを構築する配列\n",
    "        \"\"\"\n",
    "        for i in range(len(arr)//2, -1, -1):\n",
    "            _align_element(arr, i, len(arr))\n",
    "\n",
    "    def _delete_root(arr, end):\n",
    "        \"\"\"根を削除\n",
    "\n",
    "        Args:\n",
    "            arr (_type_): 根を削除する配列\n",
    "            end (_type_): 現在の配列の終了インデックス\n",
    "        \"\"\"\n",
    "        arr[0], arr[end] = arr[end], arr[0]\n",
    "        _align_element(arr, 0, end)\n",
    "\n",
    "    _build_heap(arr)\n",
    "    for i in range(len(arr)-1, 0, -1):\n",
    "        _delete_root(arr, i)\n",
    "\n",
    "    return arr\n",
    "\n",
    "@pytest.mark.parametrize(\n",
    "    \"arr, expected\",\n",
    "    [\n",
    "        ([3, 2, 1], [1, 2, 3]),\n",
    "        ([1, 2, 3], [1, 2, 3]),\n",
    "        ([1], [1]),\n",
    "        ([], []),\n",
    "    ],\n",
    ")\n",
    "\n",
    "def test_heap_sort(arr, expected):\n",
    "    assert heap_sort(arr) == expected\n"
   ]
  },
  {
   "cell_type": "code",
   "execution_count": 7,
   "metadata": {},
   "outputs": [
    {
     "name": "stdout",
     "output_type": "stream",
     "text": [
      "\u001b[32m.\u001b[0m\u001b[32m.\u001b[0m\u001b[32m.\u001b[0m\u001b[32m.\u001b[0m\u001b[32m                                                                                         [100%]\u001b[0m\n",
      "\u001b[32m\u001b[32m\u001b[1m4 passed\u001b[0m\u001b[32m in 0.02s\u001b[0m\u001b[0m\n"
     ]
    }
   ],
   "source": [
    "%%ipytest\n",
    "\n",
    "# マージソート\n",
    "def merge_sort(arr):\n",
    "    if len(arr) <= 1:\n",
    "        return arr\n",
    "\n",
    "    def _merge(left, right):\n",
    "        result = []\n",
    "        i = j = 0\n",
    "        while i < len(left) and j < len(right):\n",
    "            if left[i] <= right[j]:\n",
    "                result.append(left[i])\n",
    "                i += 1\n",
    "            else:\n",
    "                result.append(right[j])\n",
    "                j += 1\n",
    "\n",
    "        result += left[i:]\n",
    "        result += right[j:]\n",
    "\n",
    "        return result\n",
    "\n",
    "    mid = len(arr) // 2\n",
    "    left = merge_sort(arr[:mid])\n",
    "    right = merge_sort(arr[mid:])\n",
    "\n",
    "    return _merge(left, right)\n",
    "\n",
    "@pytest.mark.parametrize(\n",
    "    \"arr, expected\",\n",
    "    [\n",
    "        ([10, 9, 8, 7, 6, 5, 4, 3, 2, 1], [1, 2, 3, 4, 5, 6, 7, 8, 9, 10]),\n",
    "        ([1, 2, 3], [1, 2, 3]),\n",
    "        ([1], [1]),\n",
    "        ([], []),\n",
    "    ],\n",
    ")\n",
    "\n",
    "def test_merge_sort(arr, expected):\n",
    "    assert merge_sort(arr) == expected\n"
   ]
  },
  {
   "cell_type": "code",
   "execution_count": 2,
   "metadata": {},
   "outputs": [
    {
     "name": "stdout",
     "output_type": "stream",
     "text": [
      "\u001b[32m.\u001b[0m\u001b[32m.\u001b[0m\u001b[32m.\u001b[0m\u001b[32m.\u001b[0m\u001b[32m                                                                                         [100%]\u001b[0m\n",
      "\u001b[32m\u001b[32m\u001b[1m4 passed\u001b[0m\u001b[32m in 0.03s\u001b[0m\u001b[0m\n"
     ]
    }
   ],
   "source": [
    "%%ipytest\n",
    "\n",
    "# クイックソート\n",
    "def quick_sort(arr):\n",
    "    if len(arr) <= 1:\n",
    "        return arr\n",
    "\n",
    "    pivot = arr[len(arr) // 2]\n",
    "    left = [x for x in arr if x < pivot]\n",
    "    middle = [x for x in arr if x == pivot]\n",
    "    right = [x for x in arr if x > pivot]\n",
    "\n",
    "    return quick_sort(left) + middle + quick_sort(right)\n",
    "\n",
    "@pytest.mark.parametrize(\n",
    "    \"arr, expected\",\n",
    "    [\n",
    "        ([10, 9, 8, 7, 6, 5, 4, 3, 2, 1], [1, 2, 3, 4, 5, 6, 7, 8, 9, 10]),\n",
    "        ([1, 2, 3], [1, 2, 3]),\n",
    "        ([1], [1]),\n",
    "        ([], []),\n",
    "    ],\n",
    ")\n",
    "\n",
    "def test_quick_sort(arr, expected):\n",
    "    assert quick_sort(arr) == expected"
   ]
  },
  {
   "cell_type": "markdown",
   "metadata": {},
   "source": [
    "## 探索アルゴリズム"
   ]
  },
  {
   "cell_type": "code",
   "execution_count": 3,
   "metadata": {},
   "outputs": [
    {
     "name": "stdout",
     "output_type": "stream",
     "text": [
      "\u001b[32m.\u001b[0m\u001b[32m.\u001b[0m\u001b[32m.\u001b[0m\u001b[32m.\u001b[0m\u001b[32m                                                                                         [100%]\u001b[0m\n",
      "\u001b[32m\u001b[32m\u001b[1m4 passed\u001b[0m\u001b[32m in 0.03s\u001b[0m\u001b[0m\n"
     ]
    }
   ],
   "source": [
    "%%ipytest\n",
    "\n",
    "# 線形探索\n",
    "def linear_search(arr, target):\n",
    "    for i, x in enumerate(arr):\n",
    "        if x == target:\n",
    "            return i\n",
    "\n",
    "    return -1\n",
    "\n",
    "@pytest.mark.parametrize(\n",
    "    \"arr, target, expected\",\n",
    "    [\n",
    "        ([1, 2, 3], 2, 1),\n",
    "        ([1, 2, 3], 4, -1),\n",
    "        ([1], 1, 0),\n",
    "        ([], 1, -1),\n",
    "    ],\n",
    ")\n",
    "\n",
    "def test_linear_search(arr, target, expected):\n",
    "    assert linear_search(arr, target) == expected"
   ]
  },
  {
   "cell_type": "code",
   "execution_count": 4,
   "metadata": {},
   "outputs": [
    {
     "name": "stdout",
     "output_type": "stream",
     "text": [
      "\u001b[32m.\u001b[0m\u001b[32m.\u001b[0m\u001b[32m.\u001b[0m\u001b[32m.\u001b[0m\u001b[32m                                                                                         [100%]\u001b[0m\n",
      "\u001b[32m\u001b[32m\u001b[1m4 passed\u001b[0m\u001b[32m in 0.03s\u001b[0m\u001b[0m\n"
     ]
    }
   ],
   "source": [
    "%%ipytest\n",
    "\n",
    "# 二分探索\n",
    "def binary_search(arr, target):\n",
    "    left, right = 0, len(arr) - 1\n",
    "    while left <= right:\n",
    "        mid = (left + right) // 2\n",
    "        if arr[mid] == target:\n",
    "            return mid\n",
    "        elif arr[mid] < target:\n",
    "            left = mid + 1\n",
    "        else:\n",
    "            right = mid - 1\n",
    "\n",
    "    return -1\n",
    "\n",
    "@pytest.mark.parametrize(\n",
    "    \"arr, target, expected\",\n",
    "    [\n",
    "        ([1, 2, 3], 2, 1),\n",
    "        ([1, 2, 3], 4, -1),\n",
    "        ([1], 1, 0),\n",
    "        ([], 1, -1),\n",
    "    ],\n",
    ")\n",
    "\n",
    "def test_binary_search(arr, target, expected):\n",
    "    assert binary_search(arr, target) == expected"
   ]
  },
  {
   "cell_type": "code",
   "execution_count": 7,
   "metadata": {},
   "outputs": [
    {
     "name": "stdout",
     "output_type": "stream",
     "text": [
      "2\n",
      "1\n"
     ]
    }
   ],
   "source": [
    "arr = [0, 2, 4, 1, 3]\n",
    "sort_idx = sorted(range(len(arr)), key=lambda x: arr[x])\n",
    "sort_arr = sorted(arr)\n",
    "\n",
    "idx = binary_search(sort_arr, 2)\n",
    "print(idx)\n",
    "print(sort_idx[idx])"
   ]
  },
  {
   "cell_type": "code",
   "execution_count": 9,
   "metadata": {},
   "outputs": [
    {
     "name": "stdout",
     "output_type": "stream",
     "text": [
      "1\n",
      "2\n",
      "3\n",
      "4\n",
      "5\n",
      "1\n",
      "2\n",
      "4\n",
      "5\n",
      "\u001b[32m.\u001b[0m\u001b[32m.\u001b[0m\u001b[32m.\u001b[0m\u001b[32m.\u001b[0m\u001b[32m                                                                                         [100%]\u001b[0m\n",
      "\u001b[32m\u001b[32m\u001b[1m4 passed\u001b[0m\u001b[32m in 0.02s\u001b[0m\u001b[0m\n"
     ]
    }
   ],
   "source": [
    "%%ipytest\n",
    "\n",
    "# 二分探索木\n",
    "class Node:\n",
    "    def __init__(self, value):\n",
    "        self.value = value\n",
    "        self.left = None\n",
    "        self.right = None\n",
    "\n",
    "class BinarySearchTree:\n",
    "    def __init__(self):\n",
    "        self.root = None\n",
    "\n",
    "    def insert(self, value):\n",
    "        if self.root is None:\n",
    "            self.root = Node(value)\n",
    "        else:\n",
    "            self._insert(self.root, value)\n",
    "\n",
    "    def _insert(self, node, value):\n",
    "        if value < node.value:\n",
    "            if node.left is None:\n",
    "                node.left = Node(value)\n",
    "            else:\n",
    "                self._insert(node.left, value)\n",
    "        else:\n",
    "            if node.right is None:\n",
    "                node.right = Node(value)\n",
    "            else:\n",
    "                self._insert(node.right, value)\n",
    "\n",
    "    def search(self, value):\n",
    "        return self._search(self.root, value)\n",
    "\n",
    "    def _search(self, node, value):\n",
    "        if node is None:\n",
    "            return False\n",
    "        elif node.value == value:\n",
    "            return True\n",
    "        elif value < node.value:\n",
    "            return self._search(node.left, value)\n",
    "        else:\n",
    "            return self._search(node.right, value)\n",
    "\n",
    "    def delete(self, value):\n",
    "        self.root = self._delete(self.root, value)\n",
    "\n",
    "    def _delete(self, node, value):\n",
    "        if node is None:\n",
    "            return None\n",
    "        if value < node.value:\n",
    "            node.left = self._delete(node.left, value)\n",
    "        elif value > node.value:\n",
    "            node.right = self._delete(node.right, value)\n",
    "        else:\n",
    "            if node.left is None:\n",
    "                return node.right\n",
    "            elif node.right is None:\n",
    "                return node.left\n",
    "            else:\n",
    "                node.value = self._find_min(node.right).value\n",
    "                node.right = self._delete(node.right, node.value)\n",
    "\n",
    "        return node\n",
    "\n",
    "    def _find_min(self, node):\n",
    "        while node.left is not None:\n",
    "            node = node.left\n",
    "        return node\n",
    "\n",
    "    def inorder(self):\n",
    "        return self._inorder(self.root)\n",
    "\n",
    "    def _inorder(self, node):\n",
    "        if node is not None:\n",
    "            self._inorder(node.left)\n",
    "            print(node.value)\n",
    "            self._inorder(node.right)\n",
    "\n",
    "bst = BinarySearchTree()\n",
    "bst.insert(3)\n",
    "bst.insert(1)\n",
    "bst.insert(4)\n",
    "bst.insert(2)\n",
    "bst.insert(5)\n",
    "bst.inorder()\n",
    "\n",
    "bst.delete(3)\n",
    "bst.inorder()\n",
    "\n",
    "@pytest.mark.parametrize(\n",
    "    \"arr, target, expected\",\n",
    "    [\n",
    "        ([1, 2, 3], 2, True),\n",
    "        ([1, 2, 3], 4, False),\n",
    "        ([1], 1, True),\n",
    "        ([], 1, False),\n",
    "    ],\n",
    ")\n",
    "\n",
    "def test_binary_search_tree(arr, target, expected):\n",
    "    bst = BinarySearchTree()\n",
    "    for x in arr:\n",
    "        bst.insert(x)\n",
    "    assert bst.search(target) == expected"
   ]
  },
  {
   "cell_type": "code",
   "execution_count": null,
   "metadata": {},
   "outputs": [],
   "source": []
  }
 ],
 "metadata": {
  "kernelspec": {
   "display_name": "env_algo_book",
   "language": "python",
   "name": "python3"
  },
  "language_info": {
   "codemirror_mode": {
    "name": "ipython",
    "version": 3
   },
   "file_extension": ".py",
   "mimetype": "text/x-python",
   "name": "python",
   "nbconvert_exporter": "python",
   "pygments_lexer": "ipython3",
   "version": "3.11.8"
  }
 },
 "nbformat": 4,
 "nbformat_minor": 2
}
